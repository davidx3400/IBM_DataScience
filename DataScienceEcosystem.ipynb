{
 "cells": [
  {
   "cell_type": "markdown",
   "id": "9fb3217f-aedd-470d-9d61-125b09f2cc53",
   "metadata": {},
   "source": [
    "# Data Science Tools and Ecosystem"
   ]
  },
  {
   "cell_type": "markdown",
   "id": "1ad78649-fb2e-4d00-85d9-4f5bf02becc4",
   "metadata": {},
   "source": [
    "In this notebook, Data Science Tools and Ecosystem are summarized."
   ]
  },
  {
   "cell_type": "markdown",
   "id": "ef0ec7f4-6511-4d21-b775-ee7c5c317976",
   "metadata": {},
   "source": [
    "**Objectives:**\n",
    "- List popular languages\n",
    "- Common libraries\n",
    "- Examples of Python"
   ]
  },
  {
   "cell_type": "markdown",
   "id": "c3de56d1-4af8-4d6a-bc8b-98e8ba5a5c76",
   "metadata": {},
   "source": [
    "Some of the popular languages that Data Scientists use are:\n",
    "1. Python\n",
    "2. R\n",
    "3. Scala"
   ]
  },
  {
   "cell_type": "markdown",
   "id": "d672be30-2015-4a46-8e0b-c592106497d3",
   "metadata": {},
   "source": [
    "Some of the commonly used libraries used by Data Scientists include:\n",
    "1. Numpy\n",
    "2. Pandas\n",
    "3. Matplotlib"
   ]
  },
  {
   "cell_type": "markdown",
   "id": "2eb42f68-36bc-4058-81f1-09fbbcf4b257",
   "metadata": {},
   "source": [
    "|Data Science Tools|\n",
    "|---|\n",
    "|JupyerLab|\n",
    "|R Studio|\n",
    "|MySQL|"
   ]
  },
  {
   "cell_type": "markdown",
   "id": "82b5396f-8c9c-486e-9aee-787dba7b6e66",
   "metadata": {},
   "source": [
    "### Below are a few examples of evaluating arithmetic expressions in Python."
   ]
  },
  {
   "cell_type": "code",
   "execution_count": 2,
   "id": "0c05ccf5-1371-4d90-a5bd-a3cec8260d41",
   "metadata": {
    "tags": []
   },
   "outputs": [
    {
     "data": {
      "text/plain": [
       "17"
      ]
     },
     "execution_count": 2,
     "metadata": {},
     "output_type": "execute_result"
    }
   ],
   "source": [
    "# This a simple arithmetic expression to mutiply then add integers\n",
    "(3*4)+5"
   ]
  },
  {
   "cell_type": "code",
   "execution_count": 3,
   "id": "dc92a36f-fdf5-436c-b59e-45f841a4eefb",
   "metadata": {
    "tags": []
   },
   "outputs": [
    {
     "data": {
      "text/plain": [
       "3.3333333333333335"
      ]
     },
     "execution_count": 3,
     "metadata": {},
     "output_type": "execute_result"
    }
   ],
   "source": [
    "# This will convert 200 minutes to hours by diving by 60\n",
    "200 / 60"
   ]
  },
  {
   "cell_type": "markdown",
   "id": "438d539f-b9a8-4035-a927-c2df0efa68db",
   "metadata": {},
   "source": [
    "## Author\n",
    "David Xavier"
   ]
  }
 ],
 "metadata": {
  "kernelspec": {
   "display_name": "Python",
   "language": "python",
   "name": "conda-env-python-py"
  },
  "language_info": {
   "codemirror_mode": {
    "name": "ipython",
    "version": 3
   },
   "file_extension": ".py",
   "mimetype": "text/x-python",
   "name": "python",
   "nbconvert_exporter": "python",
   "pygments_lexer": "ipython3",
   "version": "3.7.12"
  }
 },
 "nbformat": 4,
 "nbformat_minor": 5
}
